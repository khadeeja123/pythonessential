{
  "nbformat": 4,
  "nbformat_minor": 0,
  "metadata": {
    "colab": {
      "name": "Untitled0.ipynb",
      "provenance": [],
      "authorship_tag": "ABX9TyOtX4wcWSLR7fw14uMsgmD2",
      "include_colab_link": true
    },
    "kernelspec": {
      "name": "python3",
      "display_name": "Python 3"
    }
  },
  "cells": [
    {
      "cell_type": "markdown",
      "metadata": {
        "id": "view-in-github",
        "colab_type": "text"
      },
      "source": [
        "<a href=\"https://colab.research.google.com/github/khadeeja123/pythonessential/blob/master/day6.ipynb\" target=\"_parent\"><img src=\"https://colab.research.google.com/assets/colab-badge.svg\" alt=\"Open In Colab\"/></a>"
      ]
    },
    {
      "cell_type": "code",
      "metadata": {
        "id": "E9bT3fGt4apU",
        "colab_type": "code",
        "colab": {}
      },
      "source": [
        "class Account:\n",
        "  def __init__(self,ownerName,balance):\n",
        "    self.ownerName = ownerName\n",
        "    self.balance = balance\n",
        "\n",
        "  def withdrawl(self,amount):\n",
        "    if self.balance >= amount:\n",
        "      self.balance -= amount\n",
        "      print(\"your available balance is\",self.balance)\n",
        "    else:\n",
        "      print(\" Insufficient funds\")\n",
        "\n",
        "  def deposit(self,amount):\n",
        "    self.balance += amount\n",
        "    print(\"your net balance is\",self.balance)"
      ],
      "execution_count": 16,
      "outputs": []
    },
    {
      "cell_type": "code",
      "metadata": {
        "id": "dB_7BEyj7Mpe",
        "colab_type": "code",
        "colab": {
          "base_uri": "https://localhost:8080/",
          "height": 34
        },
        "outputId": "89064f97-22c6-4230-8c93-0421025e671b"
      },
      "source": [
        "p1 = Account(\"km\",50000)\n",
        "print(p1.ownerName)\n"
      ],
      "execution_count": 19,
      "outputs": [
        {
          "output_type": "stream",
          "text": [
            "km\n"
          ],
          "name": "stdout"
        }
      ]
    },
    {
      "cell_type": "code",
      "metadata": {
        "id": "ya4ANfiOFwCz",
        "colab_type": "code",
        "colab": {
          "base_uri": "https://localhost:8080/",
          "height": 34
        },
        "outputId": "d664f9c8-200a-4be9-85fe-e2d6013e12a4"
      },
      "source": [
        "p1.deposit(50)"
      ],
      "execution_count": 21,
      "outputs": [
        {
          "output_type": "stream",
          "text": [
            "your net balance is 50100\n"
          ],
          "name": "stdout"
        }
      ]
    }
  ]
}