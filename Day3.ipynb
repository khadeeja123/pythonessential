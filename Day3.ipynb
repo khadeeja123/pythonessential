{
  "nbformat": 4,
  "nbformat_minor": 0,
  "metadata": {
    "colab": {
      "name": "Day3.ipynb",
      "provenance": [],
      "collapsed_sections": []
    },
    "kernelspec": {
      "name": "python3",
      "display_name": "Python 3"
    }
  },
  "cells": [
    {
      "cell_type": "code",
      "metadata": {
        "id": "dL8xOA9BCGvY",
        "colab_type": "code",
        "colab": {
          "base_uri": "https://localhost:8080/",
          "height": 52
        },
        "outputId": "783d44cf-a07b-4c29-b26d-bdced2cd3e7d"
      },
      "source": [
        "altitude = input(\"Enter altitude\")\n",
        "altitude = int(altitude)\n",
        "if altitude > 5000:\n",
        "  print(\"turn around\")\n",
        "elif altitude <5000 and altitude >1000:\n",
        "  print(\"Bring down to 1000\")\n",
        "else:\n",
        "  print(\"Safe to land\")"
      ],
      "execution_count": 12,
      "outputs": [
        {
          "output_type": "stream",
          "text": [
            "Enter altitude500\n",
            "Safe to land\n"
          ],
          "name": "stdout"
        }
      ]
    },
    {
      "cell_type": "code",
      "metadata": {
        "id": "hafCSQg5FH9z",
        "colab_type": "code",
        "colab": {
          "base_uri": "https://localhost:8080/",
          "height": 816
        },
        "outputId": "fef45932-90b7-4f2f-ea53-c328dbb4d1c8"
      },
      "source": [
        "import sympy \n",
        "for num in range(1,201):\n",
        "  if sympy.isprime(num):\n",
        "    print(num)"
      ],
      "execution_count": 15,
      "outputs": [
        {
          "output_type": "stream",
          "text": [
            "2\n",
            "3\n",
            "5\n",
            "7\n",
            "11\n",
            "13\n",
            "17\n",
            "19\n",
            "23\n",
            "29\n",
            "31\n",
            "37\n",
            "41\n",
            "43\n",
            "47\n",
            "53\n",
            "59\n",
            "61\n",
            "67\n",
            "71\n",
            "73\n",
            "79\n",
            "83\n",
            "89\n",
            "97\n",
            "101\n",
            "103\n",
            "107\n",
            "109\n",
            "113\n",
            "127\n",
            "131\n",
            "137\n",
            "139\n",
            "149\n",
            "151\n",
            "157\n",
            "163\n",
            "167\n",
            "173\n",
            "179\n",
            "181\n",
            "191\n",
            "193\n",
            "197\n",
            "199\n"
          ],
          "name": "stdout"
        }
      ]
    },
    {
      "cell_type": "code",
      "metadata": {
        "id": "vxwUMYThE-bg",
        "colab_type": "code",
        "colab": {}
      },
      "source": [
        ""
      ],
      "execution_count": null,
      "outputs": []
    },
    {
      "cell_type": "markdown",
      "metadata": {
        "id": "QqbZ59DwED8n",
        "colab_type": "text"
      },
      "source": [
        "Prime number using for loop and range"
      ]
    },
    {
      "cell_type": "markdown",
      "metadata": {
        "id": "XvgN5MgEEBVX",
        "colab_type": "text"
      },
      "source": [
        ""
      ]
    }
  ]
}