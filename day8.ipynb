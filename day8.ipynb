{
  "nbformat": 4,
  "nbformat_minor": 0,
  "metadata": {
    "colab": {
      "name": "day8.ipynb",
      "provenance": [],
      "authorship_tag": "ABX9TyObJqAk9rh74Sh/q114D0Gx",
      "include_colab_link": true
    },
    "kernelspec": {
      "name": "python3",
      "display_name": "Python 3"
    }
  },
  "cells": [
    {
      "cell_type": "markdown",
      "metadata": {
        "id": "view-in-github",
        "colab_type": "text"
      },
      "source": [
        "<a href=\"https://colab.research.google.com/github/khadeeja123/pythonessential/blob/master/day8.ipynb\" target=\"_parent\"><img src=\"https://colab.research.google.com/assets/colab-badge.svg\" alt=\"Open In Colab\"/></a>"
      ]
    },
    {
      "cell_type": "code",
      "metadata": {
        "id": "dGV_8rZN2mHN",
        "colab_type": "code",
        "colab": {}
      },
      "source": [
        " def getinput(cal_ar_function):\n",
        "   def wrap_function():\n",
        "     n=int(input(\"Enter the no of required terms:\"))\n",
        "     cal_ar_function(n)\n",
        "   return wrap_function"
      ],
      "execution_count": 2,
      "outputs": []
    },
    {
      "cell_type": "code",
      "metadata": {
        "id": "3vzPtq0l7Clk",
        "colab_type": "code",
        "colab": {
          "base_uri": "https://localhost:8080/",
          "height": 52
        },
        "outputId": "c899084d-8531-4c1b-b7f8-6d1c0db47cf0"
      },
      "source": [
        "@getinput\n",
        "def Fibonacci(n):\n",
        "  i=0\n",
        "  a=0\n",
        "  b=1\n",
        "  for i in range(1,n):\n",
        "    c= a + b\n",
        "    a=b\n",
        "    b=c\n",
        "  print(c)\n",
        "    \n",
        "Fibonacci()"
      ],
      "execution_count": 6,
      "outputs": [
        {
          "output_type": "stream",
          "text": [
            "Enter the no of required terms:3\n",
            "2\n"
          ],
          "name": "stdout"
        }
      ]
    },
    {
      "cell_type": "code",
      "metadata": {
        "id": "fTkGDA8tuH29",
        "colab_type": "code",
        "colab": {}
      },
      "source": [
        "try:\n",
        "  file=open(\"letspupgrade.txt\",\"w\")\n",
        "  file.write(\"i am working\")\n",
        "  file.close()\n",
        "except:\n",
        "  print(\"file not opening\")"
      ],
      "execution_count": 12,
      "outputs": []
    },
    {
      "cell_type": "code",
      "metadata": {
        "id": "INHSxy9yv0iN",
        "colab_type": "code",
        "colab": {
          "base_uri": "https://localhost:8080/",
          "height": 201
        },
        "outputId": "0f0f36c8-0cfc-49f0-bb05-209d2eb2946a"
      },
      "source": [
        "file=open(\"letsupgrade.txt\",\"r\")\n",
        "text=file.read\n",
        "print(text)\n"
      ],
      "execution_count": 11,
      "outputs": [
        {
          "output_type": "error",
          "ename": "FileNotFoundError",
          "evalue": "ignored",
          "traceback": [
            "\u001b[0;31m---------------------------------------------------------------------------\u001b[0m",
            "\u001b[0;31mFileNotFoundError\u001b[0m                         Traceback (most recent call last)",
            "\u001b[0;32m<ipython-input-11-0eee221d6f43>\u001b[0m in \u001b[0;36m<module>\u001b[0;34m()\u001b[0m\n\u001b[0;32m----> 1\u001b[0;31m \u001b[0mfile\u001b[0m\u001b[0;34m=\u001b[0m\u001b[0mopen\u001b[0m\u001b[0;34m(\u001b[0m\u001b[0;34m\"letsupgrade.txt\"\u001b[0m\u001b[0;34m,\u001b[0m\u001b[0;34m\"r\"\u001b[0m\u001b[0;34m)\u001b[0m\u001b[0;34m\u001b[0m\u001b[0;34m\u001b[0m\u001b[0m\n\u001b[0m\u001b[1;32m      2\u001b[0m \u001b[0mtext\u001b[0m\u001b[0;34m=\u001b[0m\u001b[0mfile\u001b[0m\u001b[0;34m.\u001b[0m\u001b[0mread\u001b[0m\u001b[0;34m\u001b[0m\u001b[0;34m\u001b[0m\u001b[0m\n\u001b[1;32m      3\u001b[0m \u001b[0mprint\u001b[0m\u001b[0;34m(\u001b[0m\u001b[0mtext\u001b[0m\u001b[0;34m)\u001b[0m\u001b[0;34m\u001b[0m\u001b[0;34m\u001b[0m\u001b[0m\n",
            "\u001b[0;31mFileNotFoundError\u001b[0m: [Errno 2] No such file or directory: 'letsupgrade.txt'"
          ]
        }
      ]
    }
  ]
}