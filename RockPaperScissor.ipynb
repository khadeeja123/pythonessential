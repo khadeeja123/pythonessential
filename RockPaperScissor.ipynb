{
  "nbformat": 4,
  "nbformat_minor": 0,
  "metadata": {
    "colab": {
      "name": "RockPaperScissor.ipynb",
      "provenance": [],
      "authorship_tag": "ABX9TyORwKqbi72RGIz/osiE1Mjk",
      "include_colab_link": true
    },
    "kernelspec": {
      "name": "python3",
      "display_name": "Python 3"
    }
  },
  "cells": [
    {
      "cell_type": "markdown",
      "metadata": {
        "id": "view-in-github",
        "colab_type": "text"
      },
      "source": [
        "<a href=\"https://colab.research.google.com/github/khadeeja123/pythonessential/blob/master/RockPaperScissor.ipynb\" target=\"_parent\"><img src=\"https://colab.research.google.com/assets/colab-badge.svg\" alt=\"Open In Colab\"/></a>"
      ]
    },
    {
      "cell_type": "code",
      "metadata": {
        "id": "UwEHMNEtBdXL",
        "colab_type": "code",
        "colab": {}
      },
      "source": [
        "def takePlayerInput():\n",
        "  player= \"blank\"\n",
        "  while not (player.lower()==\"r\" or player.lower()==\"p\" or player.lower()==\"s\" ):\n",
        "    player=input(\"please enter R | P | S\")\n",
        "  return player.lower()\n"
      ],
      "execution_count": null,
      "outputs": []
    }
  ]
}